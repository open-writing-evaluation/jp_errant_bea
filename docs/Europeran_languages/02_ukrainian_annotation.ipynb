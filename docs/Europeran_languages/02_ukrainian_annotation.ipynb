{
 "cells": [
  {
   "cell_type": "markdown",
   "metadata": {},
   "source": [
    "### Ukrainian Annotation\n",
    "\n",
    "In this notebook, we will try jp-errant on Ukrainian language dataset"
   ]
  },
  {
   "cell_type": "code",
   "execution_count": 1,
   "metadata": {},
   "outputs": [],
   "source": [
    "import sys\n",
    "sys.path.insert(0, '../')"
   ]
  },
  {
   "cell_type": "code",
   "execution_count": 2,
   "metadata": {},
   "outputs": [],
   "source": [
    "import jp_errant"
   ]
  },
  {
   "cell_type": "code",
   "execution_count": 3,
   "metadata": {},
   "outputs": [
    {
     "data": {
      "text/plain": [
       "'3.0.1'"
      ]
     },
     "execution_count": 3,
     "metadata": {},
     "output_type": "execute_result"
    }
   ],
   "source": [
    "jp_errant.__version__"
   ]
  },
  {
   "cell_type": "code",
   "execution_count": 4,
   "metadata": {},
   "outputs": [
    {
     "name": "stderr",
     "output_type": "stream",
     "text": [
      "2025-02-13 20:14:33 INFO: Checking for updates to resources.json in case models have been updated.  Note: this behavior can be turned off with download_method=None or download_method=DownloadMethod.REUSE_RESOURCES\n"
     ]
    },
    {
     "data": {
      "application/vnd.jupyter.widget-view+json": {
       "model_id": "a1a812d644cd4e38aa818d3682f7ee03",
       "version_major": 2,
       "version_minor": 0
      },
      "text/plain": [
       "Downloading https://raw.githubusercontent.com/stanfordnlp/stanza-resources/main/resources_1.9.0.json:   0%|   …"
      ]
     },
     "metadata": {},
     "output_type": "display_data"
    },
    {
     "name": "stderr",
     "output_type": "stream",
     "text": [
      "2025-02-13 20:14:33 INFO: Downloaded file to C:\\Users\\Minh UBC\\stanza_resources\\resources.json\n",
      "2025-02-13 20:14:34 INFO: Loading these models for language: uk (Ukrainian):\n",
      "===========================\n",
      "| Processor | Package     |\n",
      "---------------------------\n",
      "| tokenize  | iu          |\n",
      "| mwt       | iu          |\n",
      "| pos       | iu_charlm   |\n",
      "| lemma     | iu_nocharlm |\n",
      "| depparse  | iu_charlm   |\n",
      "===========================\n",
      "\n",
      "2025-02-13 20:14:34 INFO: Using device: cuda\n",
      "2025-02-13 20:14:34 INFO: Loading: tokenize\n",
      "c:\\Users\\Minh UBC\\miniconda3\\Lib\\site-packages\\stanza\\models\\tokenization\\trainer.py:82: FutureWarning: You are using `torch.load` with `weights_only=False` (the current default value), which uses the default pickle module implicitly. It is possible to construct malicious pickle data which will execute arbitrary code during unpickling (See https://github.com/pytorch/pytorch/blob/main/SECURITY.md#untrusted-models for more details). In a future release, the default value for `weights_only` will be flipped to `True`. This limits the functions that could be executed during unpickling. Arbitrary objects will no longer be allowed to be loaded via this mode unless they are explicitly allowlisted by the user via `torch.serialization.add_safe_globals`. We recommend you start setting `weights_only=True` for any use case where you don't have full control of the loaded file. Please open an issue on GitHub for any issues related to this experimental feature.\n",
      "  checkpoint = torch.load(filename, lambda storage, loc: storage)\n",
      "2025-02-13 20:14:35 INFO: Loading: mwt\n",
      "c:\\Users\\Minh UBC\\miniconda3\\Lib\\site-packages\\stanza\\models\\mwt\\trainer.py:201: FutureWarning: You are using `torch.load` with `weights_only=False` (the current default value), which uses the default pickle module implicitly. It is possible to construct malicious pickle data which will execute arbitrary code during unpickling (See https://github.com/pytorch/pytorch/blob/main/SECURITY.md#untrusted-models for more details). In a future release, the default value for `weights_only` will be flipped to `True`. This limits the functions that could be executed during unpickling. Arbitrary objects will no longer be allowed to be loaded via this mode unless they are explicitly allowlisted by the user via `torch.serialization.add_safe_globals`. We recommend you start setting `weights_only=True` for any use case where you don't have full control of the loaded file. Please open an issue on GitHub for any issues related to this experimental feature.\n",
      "  checkpoint = torch.load(filename, lambda storage, loc: storage)\n",
      "2025-02-13 20:14:35 INFO: Loading: pos\n",
      "c:\\Users\\Minh UBC\\miniconda3\\Lib\\site-packages\\stanza\\models\\pos\\trainer.py:139: FutureWarning: You are using `torch.load` with `weights_only=False` (the current default value), which uses the default pickle module implicitly. It is possible to construct malicious pickle data which will execute arbitrary code during unpickling (See https://github.com/pytorch/pytorch/blob/main/SECURITY.md#untrusted-models for more details). In a future release, the default value for `weights_only` will be flipped to `True`. This limits the functions that could be executed during unpickling. Arbitrary objects will no longer be allowed to be loaded via this mode unless they are explicitly allowlisted by the user via `torch.serialization.add_safe_globals`. We recommend you start setting `weights_only=True` for any use case where you don't have full control of the loaded file. Please open an issue on GitHub for any issues related to this experimental feature.\n",
      "  checkpoint = torch.load(filename, lambda storage, loc: storage)\n",
      "c:\\Users\\Minh UBC\\miniconda3\\Lib\\site-packages\\stanza\\models\\common\\pretrain.py:56: FutureWarning: You are using `torch.load` with `weights_only=False` (the current default value), which uses the default pickle module implicitly. It is possible to construct malicious pickle data which will execute arbitrary code during unpickling (See https://github.com/pytorch/pytorch/blob/main/SECURITY.md#untrusted-models for more details). In a future release, the default value for `weights_only` will be flipped to `True`. This limits the functions that could be executed during unpickling. Arbitrary objects will no longer be allowed to be loaded via this mode unless they are explicitly allowlisted by the user via `torch.serialization.add_safe_globals`. We recommend you start setting `weights_only=True` for any use case where you don't have full control of the loaded file. Please open an issue on GitHub for any issues related to this experimental feature.\n",
      "  data = torch.load(self.filename, lambda storage, loc: storage)\n",
      "c:\\Users\\Minh UBC\\miniconda3\\Lib\\site-packages\\stanza\\models\\common\\char_model.py:271: FutureWarning: You are using `torch.load` with `weights_only=False` (the current default value), which uses the default pickle module implicitly. It is possible to construct malicious pickle data which will execute arbitrary code during unpickling (See https://github.com/pytorch/pytorch/blob/main/SECURITY.md#untrusted-models for more details). In a future release, the default value for `weights_only` will be flipped to `True`. This limits the functions that could be executed during unpickling. Arbitrary objects will no longer be allowed to be loaded via this mode unless they are explicitly allowlisted by the user via `torch.serialization.add_safe_globals`. We recommend you start setting `weights_only=True` for any use case where you don't have full control of the loaded file. Please open an issue on GitHub for any issues related to this experimental feature.\n",
      "  state = torch.load(filename, lambda storage, loc: storage)\n",
      "2025-02-13 20:14:36 INFO: Loading: lemma\n",
      "c:\\Users\\Minh UBC\\miniconda3\\Lib\\site-packages\\stanza\\models\\lemma\\trainer.py:239: FutureWarning: You are using `torch.load` with `weights_only=False` (the current default value), which uses the default pickle module implicitly. It is possible to construct malicious pickle data which will execute arbitrary code during unpickling (See https://github.com/pytorch/pytorch/blob/main/SECURITY.md#untrusted-models for more details). In a future release, the default value for `weights_only` will be flipped to `True`. This limits the functions that could be executed during unpickling. Arbitrary objects will no longer be allowed to be loaded via this mode unless they are explicitly allowlisted by the user via `torch.serialization.add_safe_globals`. We recommend you start setting `weights_only=True` for any use case where you don't have full control of the loaded file. Please open an issue on GitHub for any issues related to this experimental feature.\n",
      "  checkpoint = torch.load(filename, lambda storage, loc: storage)\n",
      "2025-02-13 20:14:36 INFO: Loading: depparse\n",
      "c:\\Users\\Minh UBC\\miniconda3\\Lib\\site-packages\\stanza\\models\\depparse\\trainer.py:194: FutureWarning: You are using `torch.load` with `weights_only=False` (the current default value), which uses the default pickle module implicitly. It is possible to construct malicious pickle data which will execute arbitrary code during unpickling (See https://github.com/pytorch/pytorch/blob/main/SECURITY.md#untrusted-models for more details). In a future release, the default value for `weights_only` will be flipped to `True`. This limits the functions that could be executed during unpickling. Arbitrary objects will no longer be allowed to be loaded via this mode unless they are explicitly allowlisted by the user via `torch.serialization.add_safe_globals`. We recommend you start setting `weights_only=True` for any use case where you don't have full control of the loaded file. Please open an issue on GitHub for any issues related to this experimental feature.\n",
      "  checkpoint = torch.load(filename, lambda storage, loc: storage)\n",
      "2025-02-13 20:14:36 INFO: Done loading processors!\n"
     ]
    }
   ],
   "source": [
    "annotator = jp_errant.load(lang=\"uk\") # Ukrainian"
   ]
  },
  {
   "cell_type": "code",
   "execution_count": 5,
   "metadata": {},
   "outputs": [],
   "source": [
    "original  = 'Але у нашому спілкуванні , і нашим відвідуванням та бедсідуванням з Мей Марта , ні Гудлі Бенкс ні Я можемо дізнатись що одного з нас вона переважає .'\n",
    "corrected = 'Але у нашому спілкуванні і наших відвідувань та бесідувань із Мей Марта , ні Гудлі Бенкс ні я не можемо дізнатись , що одного з нас вона переважає .'"
   ]
  },
  {
   "cell_type": "code",
   "execution_count": 6,
   "metadata": {},
   "outputs": [],
   "source": [
    "# do tokenization\n",
    "original_tokens = annotator.parse(original)\n",
    "corrected_tokens = annotator.parse(corrected)"
   ]
  },
  {
   "cell_type": "code",
   "execution_count": 7,
   "metadata": {},
   "outputs": [
    {
     "name": "stdout",
     "output_type": "stream",
     "text": [
      "Text: Але | Lemma: але | POS: CCONJ\n",
      "Text: у | Lemma: у | POS: ADP\n",
      "Text: нашому | Lemma: наш | POS: DET\n",
      "Text: спілкуванні | Lemma: спілкування | POS: NOUN\n",
      "Text: , | Lemma: , | POS: PUNCT\n",
      "Text: і | Lemma: і | POS: CCONJ\n",
      "Text: нашим | Lemma: наш | POS: DET\n",
      "Text: відвідуванням | Lemma: відвідування | POS: NOUN\n",
      "Text: та | Lemma: та | POS: CCONJ\n",
      "Text: бедсідуванням | Lemma: бедсідування | POS: NOUN\n",
      "Text: з | Lemma: з | POS: ADP\n",
      "Text: Мей | Lemma: Мей | POS: PROPN\n",
      "Text: Марта | Lemma: Март | POS: PROPN\n",
      "Text: , | Lemma: , | POS: PUNCT\n",
      "Text: ні | Lemma: ні | POS: CCONJ\n",
      "Text: Гудлі | Lemma: Гудлі | POS: PROPN\n",
      "Text: Бенкс | Lemma: Бенкс | POS: PROPN\n",
      "Text: ні | Lemma: ні | POS: CCONJ\n",
      "Text: Я | Lemma: я | POS: PRON\n",
      "Text: можемо | Lemma: могти | POS: VERB\n",
      "Text: дізнатись | Lemma: дізнатися | POS: VERB\n",
      "Text: що | Lemma: що | POS: SCONJ\n",
      "Text: одного | Lemma: один | POS: DET\n",
      "Text: з | Lemma: з | POS: ADP\n",
      "Text: нас | Lemma: ми | POS: PRON\n",
      "Text: вона | Lemma: вона | POS: PRON\n",
      "Text: переважає | Lemma: переважати | POS: VERB\n",
      "Text: . | Lemma: . | POS: PUNCT\n"
     ]
    }
   ],
   "source": [
    "for item in original_tokens.iter_words():\n",
    "    print(f\"Text: {item.text} | Lemma: {item.lemma} | POS: {item.upos}\")"
   ]
  },
  {
   "cell_type": "code",
   "execution_count": 8,
   "metadata": {},
   "outputs": [],
   "source": [
    "# annotate \n",
    "edits = annotator.annotate(orig=original_tokens, \n",
    "                           cor=corrected_tokens\n",
    "                           )"
   ]
  },
  {
   "cell_type": "code",
   "execution_count": 9,
   "metadata": {},
   "outputs": [
    {
     "name": "stdout",
     "output_type": "stream",
     "text": [
      "Orig: [4, 5, ','], Cor: [4, 4, ''], Type: 'U:PUNCT'\n",
      "Orig: [6, 7, 'нашим'], Cor: [5, 6, 'наших'], Type: 'R:DET -> DET'\n",
      "Orig: [7, 8, 'відвідуванням'], Cor: [6, 7, 'відвідувань'], Type: 'R:NOUN -> NOUN'\n",
      "Orig: [9, 10, 'бедсідуванням'], Cor: [8, 9, 'бесідувань'], Type: 'R:NOUN -> NOUN'\n",
      "Orig: [10, 11, 'з'], Cor: [9, 10, 'із'], Type: 'R:ADP -> ADP'\n",
      "Orig: [18, 19, 'Я'], Cor: [17, 18, 'я'], Type: 'R:PRON -> PRON'\n",
      "Orig: [19, 19, ''], Cor: [18, 19, 'не'], Type: 'M:PART'\n",
      "Orig: [21, 21, ''], Cor: [21, 22, ','], Type: 'M:PUNCT'\n"
     ]
    }
   ],
   "source": [
    "for edit_item in edits:\n",
    "    print(edit_item)"
   ]
  },
  {
   "cell_type": "markdown",
   "metadata": {},
   "source": [
    "### Run command line parallel to m2"
   ]
  },
  {
   "cell_type": "code",
   "execution_count": 10,
   "metadata": {},
   "outputs": [],
   "source": [
    "ORIGINAL_FILE = \"../data/GEC_European_Datasets/Ukrainian/0108.src.txt\"\n",
    "CORRECTION_FILE = \"../data/GEC_European_Datasets/Ukrainian/0108.a1.txt\"\n",
    "OUTPUT_FILE = \"../data/GEC_European_Datasets/Ukrainian/0108-jp-errant.m2\"\n",
    "LANGUAGE = \"uk\""
   ]
  },
  {
   "cell_type": "code",
   "execution_count": 11,
   "metadata": {},
   "outputs": [
    {
     "name": "stdout",
     "output_type": "stream",
     "text": [
      "usage: jp_errant_parallel [-h] [options] -orig ORIG -cor COR [COR ...] [-tsv yes] -out OUT\n",
      "\n",
      "Align parallel text files and extract and classify the edits.\n",
      "\n",
      "options:\n",
      "  -h, --help            show this help message and exit\n",
      "  -orig ORIG            The path to the original text file.\n",
      "  -cor COR [COR ...]    The paths to >= 1 corrected text files.\n",
      "  -out OUT              The output filepath.\n",
      "  -lang LANG            The 2-letter language code (default: en).\n",
      "  -lev                  Align using standard Levenshtein (default: True).\n",
      "  -merge {rules,all-split,all-merge,all-equal}\n",
      "                        Choose a merging strategy for automatic alignment.\n",
      "                        rules: Use a rule-based merging strategy (default)\n",
      "                        all-split: Merge nothing: MSSDI -> M, S, S, D, I\n",
      "                        all-merge: Merge adjacent non-matches: MSSDI -> M, SSDI\n",
      "                        all-equal: Merge adjacent same-type non-matches: MSSDI -> M, SS, D, I\n"
     ]
    }
   ],
   "source": [
    "!jp_errant_parallel --help"
   ]
  },
  {
   "cell_type": "markdown",
   "metadata": {},
   "source": [
    "#### Process Ukrainian demo set"
   ]
  },
  {
   "cell_type": "code",
   "execution_count": 12,
   "metadata": {},
   "outputs": [
    {
     "name": "stdout",
     "output_type": "stream",
     "text": [
      "Loading resources...\n",
      "Processing parallel files...\n"
     ]
    },
    {
     "name": "stderr",
     "output_type": "stream",
     "text": [
      "2025-02-13 20:14:46 INFO: Checking for updates to resources.json in case models have been updated.  Note: this behavior can be turned off with download_method=None or download_method=DownloadMethod.REUSE_RESOURCES\n",
      "\n",
      "Downloading https://raw.githubusercontent.com/stanfordnlp/stanza-resources/main/resources_1.9.0.json:   0%|          | 0.00/48.5k [00:00<?, ?B/s]\n",
      "Downloading https://raw.githubusercontent.com/stanfordnlp/stanza-resources/main/resources_1.9.0.json: 392kB [00:00, 9.07MB/s]                    \n",
      "2025-02-13 20:14:46 INFO: Downloaded file to C:\\Users\\Minh UBC\\stanza_resources\\resources.json\n",
      "2025-02-13 20:14:46 INFO: Loading these models for language: uk (Ukrainian):\n",
      "===========================\n",
      "| Processor | Package     |\n",
      "---------------------------\n",
      "| tokenize  | iu          |\n",
      "| mwt       | iu          |\n",
      "| pos       | iu_charlm   |\n",
      "| lemma     | iu_nocharlm |\n",
      "| depparse  | iu_charlm   |\n",
      "===========================\n",
      "\n",
      "2025-02-13 20:14:46 INFO: Using device: cuda\n",
      "2025-02-13 20:14:46 INFO: Loading: tokenize\n",
      "C:\\Users\\Minh UBC\\miniconda3\\Lib\\site-packages\\stanza\\models\\tokenization\\trainer.py:82: FutureWarning: You are using `torch.load` with `weights_only=False` (the current default value), which uses the default pickle module implicitly. It is possible to construct malicious pickle data which will execute arbitrary code during unpickling (See https://github.com/pytorch/pytorch/blob/main/SECURITY.md#untrusted-models for more details). In a future release, the default value for `weights_only` will be flipped to `True`. This limits the functions that could be executed during unpickling. Arbitrary objects will no longer be allowed to be loaded via this mode unless they are explicitly allowlisted by the user via `torch.serialization.add_safe_globals`. We recommend you start setting `weights_only=True` for any use case where you don't have full control of the loaded file. Please open an issue on GitHub for any issues related to this experimental feature.\n",
      "  checkpoint = torch.load(filename, lambda storage, loc: storage)\n",
      "2025-02-13 20:14:48 INFO: Loading: mwt\n",
      "C:\\Users\\Minh UBC\\miniconda3\\Lib\\site-packages\\stanza\\models\\mwt\\trainer.py:201: FutureWarning: You are using `torch.load` with `weights_only=False` (the current default value), which uses the default pickle module implicitly. It is possible to construct malicious pickle data which will execute arbitrary code during unpickling (See https://github.com/pytorch/pytorch/blob/main/SECURITY.md#untrusted-models for more details). In a future release, the default value for `weights_only` will be flipped to `True`. This limits the functions that could be executed during unpickling. Arbitrary objects will no longer be allowed to be loaded via this mode unless they are explicitly allowlisted by the user via `torch.serialization.add_safe_globals`. We recommend you start setting `weights_only=True` for any use case where you don't have full control of the loaded file. Please open an issue on GitHub for any issues related to this experimental feature.\n",
      "  checkpoint = torch.load(filename, lambda storage, loc: storage)\n",
      "2025-02-13 20:14:48 INFO: Loading: pos\n",
      "C:\\Users\\Minh UBC\\miniconda3\\Lib\\site-packages\\stanza\\models\\pos\\trainer.py:139: FutureWarning: You are using `torch.load` with `weights_only=False` (the current default value), which uses the default pickle module implicitly. It is possible to construct malicious pickle data which will execute arbitrary code during unpickling (See https://github.com/pytorch/pytorch/blob/main/SECURITY.md#untrusted-models for more details). In a future release, the default value for `weights_only` will be flipped to `True`. This limits the functions that could be executed during unpickling. Arbitrary objects will no longer be allowed to be loaded via this mode unless they are explicitly allowlisted by the user via `torch.serialization.add_safe_globals`. We recommend you start setting `weights_only=True` for any use case where you don't have full control of the loaded file. Please open an issue on GitHub for any issues related to this experimental feature.\n",
      "  checkpoint = torch.load(filename, lambda storage, loc: storage)\n",
      "C:\\Users\\Minh UBC\\miniconda3\\Lib\\site-packages\\stanza\\models\\common\\pretrain.py:56: FutureWarning: You are using `torch.load` with `weights_only=False` (the current default value), which uses the default pickle module implicitly. It is possible to construct malicious pickle data which will execute arbitrary code during unpickling (See https://github.com/pytorch/pytorch/blob/main/SECURITY.md#untrusted-models for more details). In a future release, the default value for `weights_only` will be flipped to `True`. This limits the functions that could be executed during unpickling. Arbitrary objects will no longer be allowed to be loaded via this mode unless they are explicitly allowlisted by the user via `torch.serialization.add_safe_globals`. We recommend you start setting `weights_only=True` for any use case where you don't have full control of the loaded file. Please open an issue on GitHub for any issues related to this experimental feature.\n",
      "  data = torch.load(self.filename, lambda storage, loc: storage)\n",
      "C:\\Users\\Minh UBC\\miniconda3\\Lib\\site-packages\\stanza\\models\\common\\char_model.py:271: FutureWarning: You are using `torch.load` with `weights_only=False` (the current default value), which uses the default pickle module implicitly. It is possible to construct malicious pickle data which will execute arbitrary code during unpickling (See https://github.com/pytorch/pytorch/blob/main/SECURITY.md#untrusted-models for more details). In a future release, the default value for `weights_only` will be flipped to `True`. This limits the functions that could be executed during unpickling. Arbitrary objects will no longer be allowed to be loaded via this mode unless they are explicitly allowlisted by the user via `torch.serialization.add_safe_globals`. We recommend you start setting `weights_only=True` for any use case where you don't have full control of the loaded file. Please open an issue on GitHub for any issues related to this experimental feature.\n",
      "  state = torch.load(filename, lambda storage, loc: storage)\n",
      "2025-02-13 20:14:48 INFO: Loading: lemma\n",
      "C:\\Users\\Minh UBC\\miniconda3\\Lib\\site-packages\\stanza\\models\\lemma\\trainer.py:239: FutureWarning: You are using `torch.load` with `weights_only=False` (the current default value), which uses the default pickle module implicitly. It is possible to construct malicious pickle data which will execute arbitrary code during unpickling (See https://github.com/pytorch/pytorch/blob/main/SECURITY.md#untrusted-models for more details). In a future release, the default value for `weights_only` will be flipped to `True`. This limits the functions that could be executed during unpickling. Arbitrary objects will no longer be allowed to be loaded via this mode unless they are explicitly allowlisted by the user via `torch.serialization.add_safe_globals`. We recommend you start setting `weights_only=True` for any use case where you don't have full control of the loaded file. Please open an issue on GitHub for any issues related to this experimental feature.\n",
      "  checkpoint = torch.load(filename, lambda storage, loc: storage)\n",
      "2025-02-13 20:14:48 INFO: Loading: depparse\n",
      "C:\\Users\\Minh UBC\\miniconda3\\Lib\\site-packages\\stanza\\models\\depparse\\trainer.py:194: FutureWarning: You are using `torch.load` with `weights_only=False` (the current default value), which uses the default pickle module implicitly. It is possible to construct malicious pickle data which will execute arbitrary code during unpickling (See https://github.com/pytorch/pytorch/blob/main/SECURITY.md#untrusted-models for more details). In a future release, the default value for `weights_only` will be flipped to `True`. This limits the functions that could be executed during unpickling. Arbitrary objects will no longer be allowed to be loaded via this mode unless they are explicitly allowlisted by the user via `torch.serialization.add_safe_globals`. We recommend you start setting `weights_only=True` for any use case where you don't have full control of the loaded file. Please open an issue on GitHub for any issues related to this experimental feature.\n",
      "  checkpoint = torch.load(filename, lambda storage, loc: storage)\n",
      "2025-02-13 20:14:49 INFO: Done loading processors!\n"
     ]
    }
   ],
   "source": [
    "!jp_errant_parallel -orig {ORIGINAL_FILE} -cor {CORRECTION_FILE} -lang {LANGUAGE} -out {OUTPUT_FILE}"
   ]
  }
 ],
 "metadata": {
  "kernelspec": {
   "display_name": "base",
   "language": "python",
   "name": "python3"
  },
  "language_info": {
   "codemirror_mode": {
    "name": "ipython",
    "version": 3
   },
   "file_extension": ".py",
   "mimetype": "text/x-python",
   "name": "python",
   "nbconvert_exporter": "python",
   "pygments_lexer": "ipython3",
   "version": "3.11.8"
  }
 },
 "nbformat": 4,
 "nbformat_minor": 2
}
